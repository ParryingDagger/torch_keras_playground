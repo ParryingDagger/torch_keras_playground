{
 "cells": [
  {
   "cell_type": "markdown",
   "metadata": {},
   "source": [
    "# pytorch\n",
    "\n",
    "This is my pytorch learning notebook.\n",
    "\n",
    "Based on <https://pytorch.org/tutorials/beginner/basics/intro.html>"
   ]
  },
  {
   "cell_type": "code",
   "execution_count": 1,
   "metadata": {},
   "outputs": [
    {
     "name": "stdout",
     "output_type": "stream",
     "text": [
      "tensor([[0.3688, 0.1860, 0.9257],\n",
      "        [0.3305, 0.8618, 0.3924],\n",
      "        [0.6505, 0.9448, 0.6661],\n",
      "        [0.3952, 0.6352, 0.5433],\n",
      "        [0.4057, 0.3221, 0.7392]])\n"
     ]
    }
   ],
   "source": [
    "# verification installation\n",
    "\n",
    "import torch\n",
    "\n",
    "x = torch.rand(5, 3)\n",
    "print(x)\n"
   ]
  },
  {
   "cell_type": "code",
   "execution_count": 18,
   "metadata": {},
   "outputs": [],
   "source": [
    "# import \n",
    "import torch\n",
    "from torch import nn\n",
    "from torch.utils.data import DataLoader\n",
    "from torchvision import datasets\n",
    "from torchvision.transforms import ToTensor\n",
    "import numpy as np\n",
    "import matplotlib.pyplot as plt\n",
    "%matplotlib inline"
   ]
  },
  {
   "cell_type": "markdown",
   "metadata": {},
   "source": [
    "## 基础数据结构\n",
    "\n",
    "### Tensor\n",
    "\n",
    "torch 里使用 tensor (张量) 作为模型的输入和输出编码\n"
   ]
  },
  {
   "cell_type": "code",
   "execution_count": 5,
   "metadata": {},
   "outputs": [
    {
     "name": "stdout",
     "output_type": "stream",
     "text": [
      "tensor([[1, 2],\n",
      "        [3, 4],\n",
      "        [5, 6]])\n",
      "[[1 2]\n",
      " [3 4]\n",
      " [5 6]]\n",
      "tensor([[1, 2],\n",
      "        [3, 4],\n",
      "        [5, 6]])\n",
      "tensor([[1., 1.],\n",
      "        [1., 1.],\n",
      "        [1., 1.]])\n",
      "tensor([[0.7904, 0.3991],\n",
      "        [0.7126, 0.7669],\n",
      "        [0.6519, 0.2280]])\n",
      "torch.int64\n",
      "torch.LongTensor\n",
      "torch.float32\n",
      "torch.FloatTensor\n",
      "torch.float32\n",
      "torch.FloatTensor\n",
      "torch.int32\n",
      "torch.IntTensor\n",
      "torch.float32\n",
      "torch.FloatTensor\n"
     ]
    }
   ],
   "source": [
    "import numpy as np\n",
    "\n",
    "data = [[1, 2], [3, 4], [5, 6]]\n",
    "\n",
    "t = torch.tensor(data)\n",
    "\n",
    "a = np.array(data)\n",
    "t2 = torch.from_numpy(a)\n",
    "\n",
    "print(t)\n",
    "print(a)\n",
    "print(t2)\n",
    "\n",
    "t_ones = torch.ones_like(t, dtype=torch.float)\n",
    "print(t_ones)\n",
    "\n",
    "t_rand = torch.rand_like(t, dtype=torch.float)\n",
    "print(t_rand)\n",
    "\n",
    "print(t.dtype)\n",
    "print(t.type())\n",
    "print(t_rand.dtype)\n",
    "print(t_rand.type())\n",
    "\n",
    "t_float = torch.FloatTensor([1,2,3,4,5])\n",
    "print(t_float.dtype)\n",
    "print(t_float.type())\n",
    "\n",
    "t_int = torch.IntTensor([1,2,3,4,5])\n",
    "print(t_int.dtype)\n",
    "print(t_int.type())\n",
    "\n",
    "t_float2 = t_int.type(torch.float32)\n",
    "print(t_float2.dtype)\n",
    "print(t_float2.type())\n"
   ]
  },
  {
   "cell_type": "code",
   "execution_count": 10,
   "metadata": {},
   "outputs": [
    {
     "name": "stdout",
     "output_type": "stream",
     "text": [
      "torch.Size([3, 2])\n",
      "2\n",
      "2\n",
      "torch.Size([6])\n",
      "1\n",
      "torch.Size([6, 1])\n",
      "2\n",
      "torch.Size([6, 1])\n",
      "2\n",
      "torch.Size([3, 2])\n",
      "2\n",
      "torch.Size([3, 2])\n"
     ]
    }
   ],
   "source": [
    "print(t.shape)\n",
    "print(t.size())\n",
    "print(t.ndim)\n",
    "print(t.ndimension())\n",
    "\n",
    "t2 = torch.tensor([0, 1,2,3,4,5])\n",
    "print(t2.size())\n",
    "print(t2.ndim)\n",
    "\n",
    "t3 = t2.view(6, 1)\n",
    "print(t3.size())\n",
    "print(t3.ndim)\n",
    "\n",
    "t4 = t2.view(-1, 1)\n",
    "print(t4.size())\n",
    "print(t4.ndim)\n",
    "\n",
    "t5 = t2.view(3, -1)\n",
    "print(t5.size())\n",
    "print(t5.ndim)\n",
    "print(t5.shape)\n"
   ]
  },
  {
   "cell_type": "code",
   "execution_count": 12,
   "metadata": {},
   "outputs": [
    {
     "name": "stdout",
     "output_type": "stream",
     "text": [
      "[1 2 3 4 5]\n",
      "tensor([1, 2, 3, 4, 5])\n",
      "[1 2 3 4 5]\n",
      "[1 0 3 4 5]\n",
      "tensor([1, 0, 3, 4, 5])\n",
      "[1 0 3 4 5]\n",
      "[ 1 -1  3  4  5]\n",
      "tensor([ 1, -1,  3,  4,  5])\n",
      "[ 1 -1  3  4  5]\n",
      "[ 1 -2  3  4  5]\n",
      "tensor([ 1, -2,  3,  4,  5])\n",
      "[ 1 -2  3  4  5]\n"
     ]
    }
   ],
   "source": [
    "s = np.array([1,2,3,4,5])\n",
    "t = torch.from_numpy(s)\n",
    "s_b = t.numpy()\n",
    "\n",
    "print(s)\n",
    "print(t)\n",
    "print(s_b)\n",
    "\n",
    "s[1] = 0\n",
    "print(s)\n",
    "print(t)\n",
    "print(s_b)\n",
    "\n",
    "t[1] = -1\n",
    "print(s)\n",
    "print(t)\n",
    "print(s_b)\n",
    "\n",
    "s_b[1] = -2\n",
    "print(s)\n",
    "print(t)\n",
    "print(s_b)\n"
   ]
  },
  {
   "cell_type": "code",
   "execution_count": 23,
   "metadata": {},
   "outputs": [
    {
     "name": "stdout",
     "output_type": "stream",
     "text": [
      "tensor([3, 8])\n",
      "tensor(11)\n",
      "tensor(11)\n",
      "tensor([ 5, 10])\n",
      "tensor([0, 0])\n"
     ]
    }
   ],
   "source": [
    "u = torch.tensor([1,2])\n",
    "v = torch.tensor([3,4])\n",
    "\n",
    "# chaji\n",
    "z = u * v\n",
    "print(z)\n",
    "\n",
    "y = torch.dot(u, v)\n",
    "print(y)\n",
    "\n",
    "y2 = u.dot(v)\n",
    "print(y2)\n",
    "\n",
    "# broadcast\n",
    "z2 = z + 2\n",
    "print(z2)\n",
    "\n",
    "z2[:] = 0\n",
    "print(z2)\n"
   ]
  },
  {
   "cell_type": "code",
   "execution_count": 22,
   "metadata": {},
   "outputs": [
    {
     "name": "stdout",
     "output_type": "stream",
     "text": [
      "tensor([-2.0000, -1.5556, -1.1111, -0.6667, -0.2222,  0.2222,  0.6667,  1.1111,\n",
      "         1.5556,  2.0000])\n",
      "tensor(-1.1921e-08)\n",
      "tensor(2.)\n",
      "tensor(-2.)\n"
     ]
    },
    {
     "name": "stderr",
     "output_type": "stream",
     "text": [
      "Matplotlib is building the font cache; this may take a moment.\n"
     ]
    },
    {
     "data": {
      "image/png": "[encoded data removed]",
      "text/plain": [
       "<Figure size 640x480 with 1 Axes>"
      ]
     },
     "metadata": {},
     "output_type": "display_data"
    }
   ],
   "source": [
    "t = torch.linspace(-2, 2, steps=10, dtype=torch.float32)\n",
    "print(t)\n",
    "\n",
    "mean_t = t.mean()\n",
    "print(mean_t)\n",
    "\n",
    "max_t = t.max()\n",
    "print(max_t)\n",
    "\n",
    "min_t = t.min()\n",
    "print(min_t)\n",
    "\n",
    "x = torch.linspace(0, 2 * np.pi, steps=100)\n",
    "y = torch.sin(x)\n",
    "\n",
    "import matplotlib.pyplot as plt\n",
    "%matplotlib inline\n",
    "plt.plot(x.numpy(), y.numpy())\n",
    "plt.show()\n"
   ]
  },
  {
   "cell_type": "code",
   "execution_count": 3,
   "metadata": {},
   "outputs": [
    {
     "name": "stdout",
     "output_type": "stream",
     "text": [
      "tensor([[0.9979, 0.7989],\n",
      "        [0.2192, 0.1493],\n",
      "        [0.2409, 0.8995]])\n",
      "torch.Size([3, 2])\n",
      "torch.Size([3, 2])\n",
      "2\n",
      "2\n",
      "6\n",
      "\n",
      "tensor([[0.0922, 0.1853, 0.3506],\n",
      "        [0.1108, 0.2167, 0.0756]])\n",
      "torch.Size([2, 3])\n",
      "2\n",
      "\n",
      "tensor([[0.1805, 0.3580, 0.4103],\n",
      "        [0.0368, 0.0730, 0.0881],\n",
      "        [0.1219, 0.2396, 0.1525]])\n",
      "torch.Size([3, 3])\n",
      "2\n"
     ]
    }
   ],
   "source": [
    "# 2D\n",
    "A = torch.rand(3, 2)\n",
    "print(A)\n",
    "print(A.shape)\n",
    "print(A.size())\n",
    "print(A.ndim)\n",
    "print(A.ndimension())\n",
    "print(A.numel())\n",
    "print()\n",
    "\n",
    "\n",
    "B = torch.rand(2, 3)\n",
    "print(B)\n",
    "print(B.shape)\n",
    "print(B.ndim)\n",
    "print()\n",
    "\n",
    "# torch.dot 只支持 1D 张量\n",
    "C = torch.mm(A, B)\n",
    "print(C)\n",
    "print(C.shape)\n",
    "print(C.ndim)"
   ]
  },
  {
   "cell_type": "code",
   "execution_count": 6,
   "metadata": {},
   "outputs": [
    {
     "name": "stdout",
     "output_type": "stream",
     "text": [
      "tensor([[11, 12, 13],\n",
      "        [21, 22, 23],\n",
      "        [31, 32, 33],\n",
      "        [41, 42, 43]])\n",
      "tensor([[21, 22],\n",
      "        [31, 32]])\n",
      "tensor([[21, 22, 23],\n",
      "        [31, 32, 33]])\n"
     ]
    }
   ],
   "source": [
    "# slice notice\n",
    "s = torch.tensor([[11, 12, 13], [21, 22, 23], [31, 32, 33], [41, 42, 43]])\n",
    "print(s)\n",
    "\n",
    "# work\n",
    "print(s[1:3, 0:2])\n",
    "\n",
    "# not work：因为第一次 slice 返回了一个 3 * 3 张量，第二次 slice 取了新张量的行，而非原张量的列\n",
    "print(s[1:3][0:2])\n"
   ]
  },
  {
   "cell_type": "code",
   "execution_count": 24,
   "metadata": {},
   "outputs": [
    {
     "name": "stdout",
     "output_type": "stream",
     "text": [
      "tensor(3., requires_grad=True)\n",
      "tensor(20., grad_fn=<AddBackward0>)\n",
      "tensor(9.)\n",
      "tensor(1024., grad_fn=<PowBackward1>)\n",
      "tensor(1280.)\n",
      "tensor(1419.5654)\n",
      "tensor([0.0000, 0.1282, 0.2565, 0.3847, 0.5129, 0.6411, 0.7694, 0.8976, 1.0258,\n",
      "        1.1541, 1.2823, 1.4105, 1.5387, 1.6670, 1.7952, 1.9234, 2.0517, 2.1799,\n",
      "        2.3081, 2.4363, 2.5646, 2.6928, 2.8210, 2.9493, 3.0775, 3.2057, 3.3339,\n",
      "        3.4622, 3.5904, 3.7186, 3.8468, 3.9751, 4.1033, 4.2315, 4.3598, 4.4880,\n",
      "        4.6162, 4.7444, 4.8727, 5.0009, 5.1291, 5.2574, 5.3856, 5.5138, 5.6420,\n",
      "        5.7703, 5.8985, 6.0267, 6.1550, 6.2832], requires_grad=True)\n",
      "tensor([ 0.0000e+00,  1.2788e-01,  2.5365e-01,  3.7527e-01,  4.9072e-01,\n",
      "         5.9811e-01,  6.9568e-01,  7.8183e-01,  8.5514e-01,  9.1441e-01,\n",
      "         9.5867e-01,  9.8718e-01,  9.9949e-01,  9.9538e-01,  9.7493e-01,\n",
      "         9.3847e-01,  8.8660e-01,  8.2017e-01,  7.4028e-01,  6.4823e-01,\n",
      "         5.4553e-01,  4.3388e-01,  3.1511e-01,  1.9116e-01,  6.4070e-02,\n",
      "        -6.4070e-02, -1.9116e-01, -3.1511e-01, -4.3388e-01, -5.4553e-01,\n",
      "        -6.4823e-01, -7.4028e-01, -8.2017e-01, -8.8660e-01, -9.3847e-01,\n",
      "        -9.7493e-01, -9.9538e-01, -9.9949e-01, -9.8718e-01, -9.5867e-01,\n",
      "        -9.1441e-01, -8.5514e-01, -7.8183e-01, -6.9568e-01, -5.9811e-01,\n",
      "        -4.9072e-01, -3.7527e-01, -2.5365e-01, -1.2788e-01,  1.7485e-07],\n",
      "       grad_fn=<SinBackward0>)\n",
      "tensor(1.1921e-07, grad_fn=<SumBackward0>)\n",
      "tensor([ 1.0000,  0.9918,  0.9673,  0.9269,  0.8713,  0.8014,  0.7183,  0.6235,\n",
      "         0.5184,  0.4048,  0.2845,  0.1596,  0.0321, -0.0960, -0.2225, -0.3454,\n",
      "        -0.4625, -0.5721, -0.6723, -0.7614, -0.8381, -0.9010, -0.9491, -0.9816,\n",
      "        -0.9979, -0.9979, -0.9816, -0.9491, -0.9010, -0.8381, -0.7614, -0.6723,\n",
      "        -0.5721, -0.4625, -0.3454, -0.2225, -0.0960,  0.0321,  0.1596,  0.2845,\n",
      "         0.4048,  0.5184,  0.6235,  0.7183,  0.8014,  0.8713,  0.9269,  0.9673,\n",
      "         0.9918,  1.0000])\n"
     ]
    },
    {
     "data": {
      "image/png": "[encoded data removed]",
      "text/plain": [
       "<Figure size 640x480 with 1 Axes>"
      ]
     },
     "metadata": {},
     "output_type": "display_data"
    }
   ],
   "source": [
    "# derivative\n",
    "\n",
    "x = torch.tensor(3.0, requires_grad=True)\n",
    "print(x)\n",
    "\n",
    "y = x ** 2 + 3 * x + 2\n",
    "print(y)\n",
    "\n",
    "y.backward()\n",
    "print(x.grad)\n",
    "\n",
    "u = torch.tensor(4., requires_grad=True)\n",
    "v = torch.tensor(5., requires_grad=True)\n",
    "z = u ** v\n",
    "print(z)\n",
    "\n",
    "z.backward()\n",
    "print(u.grad)\n",
    "print(v.grad)\n",
    "\n",
    "# multiple values\n",
    "x = torch.linspace(0, 2 * np.pi, steps=50, requires_grad=True)\n",
    "Y = torch.sin(x)\n",
    "y = torch.sum(Y)\n",
    "print(x)\n",
    "print(Y)\n",
    "print(y)\n",
    "\n",
    "y.backward()\n",
    "print(x.grad)\n",
    "plt.plot(x.detach().numpy(), Y.detach().numpy(), label='sin(x)')\n",
    "plt.plot(x.detach().numpy(), x.grad.detach().numpy(), label='grad')\n",
    "plt.xlabel('x')\n",
    "plt.legend()\n",
    "plt.show()\n"
   ]
  },
  {
   "cell_type": "code",
   "execution_count": 2,
   "metadata": {},
   "outputs": [
    {
     "name": "stdout",
     "output_type": "stream",
     "text": [
      "Using mps device\n"
     ]
    }
   ],
   "source": [
    "device = torch.accelerator.current_accelerator().type if torch.accelerator.is_available() else \"cpu\"\n",
    "print(f\"Using {device} device\")"
   ]
  },
  {
   "cell_type": "code",
   "execution_count": null,
   "metadata": {},
   "outputs": [],
   "source": [
    "# Load Data\n",
    "# https://pytorch.org/vision/stable/datasets.html\n",
    "\n",
    "training_data = datasets.FashionMNIST(\n",
    "\n",
    ")"
   ]
  }
 ],
 "metadata": {
  "language_info": {
   "name": "python"
  }
 },
 "nbformat": 4,
 "nbformat_minor": 2
}
